{
 "cells": [
  {
   "cell_type": "code",
   "execution_count": 1,
   "metadata": {},
   "outputs": [
    {
     "name": "stdout",
     "output_type": "stream",
     "text": [
      "Hello Pydantic\n"
     ]
    }
   ],
   "source": [
    "print(\"Hello Pydantic\")"
   ]
  },
  {
   "cell_type": "markdown",
   "metadata": {},
   "source": [
    "https://towardsdatascience.com/how-to-make-the-most-of-pydantic-aa374d5c12d"
   ]
  },
  {
   "cell_type": "code",
   "execution_count": 19,
   "metadata": {},
   "outputs": [],
   "source": [
    "from pydantic import BaseModel, ValidationError, Extra, Field"
   ]
  },
  {
   "cell_type": "code",
   "execution_count": 3,
   "metadata": {},
   "outputs": [],
   "source": [
    "class Address(BaseModel):\n",
    "    \"\"\"\n",
    "    Cat API Address definition\n",
    "    \"\"\"\n",
    "    city: str\n",
    "    zip_code: str\n",
    "    number: int\n",
    "\n",
    "\n",
    "class CatRequest(BaseModel):\n",
    "    \"\"\"\n",
    "    Cat API Request definition\n",
    "    \"\"\"\n",
    "    name: str\n",
    "    age: int\n",
    "    address: Address\n",
    " "
   ]
  },
  {
   "cell_type": "code",
   "execution_count": 4,
   "metadata": {},
   "outputs": [],
   "source": [
    "my_json = {\n",
    "    \"name\": \"Lévy\",\n",
    "    \"age\": 3,\n",
    "    \"address\": {\n",
    "        \"city\": \"Wonderland\",\n",
    "        \"zip_code\": \"ABCDE\",\n",
    "        \"number\": 123\n",
    "    }\n",
    "}"
   ]
  },
  {
   "cell_type": "code",
   "execution_count": 5,
   "metadata": {},
   "outputs": [
    {
     "data": {
      "text/plain": [
       "{'name': 'Lévy',\n",
       " 'age': 3,\n",
       " 'address': {'city': 'Wonderland', 'zip_code': 'ABCDE', 'number': 123}}"
      ]
     },
     "execution_count": 5,
     "metadata": {},
     "output_type": "execute_result"
    }
   ],
   "source": [
    "my_json"
   ]
  },
  {
   "cell_type": "code",
   "execution_count": 6,
   "metadata": {},
   "outputs": [],
   "source": [
    "data = CatRequest.parse_obj(my_json)"
   ]
  },
  {
   "cell_type": "code",
   "execution_count": 7,
   "metadata": {},
   "outputs": [
    {
     "data": {
      "text/plain": [
       "CatRequest(name='Lévy', age=3, address=Address(city='Wonderland', zip_code='ABCDE', number=123))"
      ]
     },
     "execution_count": 7,
     "metadata": {},
     "output_type": "execute_result"
    }
   ],
   "source": [
    "data"
   ]
  },
  {
   "cell_type": "code",
   "execution_count": 10,
   "metadata": {},
   "outputs": [
    {
     "data": {
      "text/plain": [
       "'Lévy'"
      ]
     },
     "execution_count": 10,
     "metadata": {},
     "output_type": "execute_result"
    }
   ],
   "source": [
    "data.name  # Lévy"
   ]
  },
  {
   "cell_type": "code",
   "execution_count": 9,
   "metadata": {},
   "outputs": [
    {
     "data": {
      "text/plain": [
       "123"
      ]
     },
     "execution_count": 9,
     "metadata": {},
     "output_type": "execute_result"
    }
   ],
   "source": [
    "data.address.number # 123"
   ]
  },
  {
   "cell_type": "code",
   "execution_count": 12,
   "metadata": {},
   "outputs": [],
   "source": [
    "\n",
    "bad_data = {\n",
    "    \"name\": \"Lévy\",\n",
    "    \"age\": \"am I an age?\",  # Note the type change here\n",
    "    \"address\": {\n",
    "        \"city\": \"Wonderland\",\n",
    "        \"zip_code\": \"ABCDE\",\n",
    "        \"number\": 123\n",
    "    }\n",
    "}"
   ]
  },
  {
   "cell_type": "code",
   "execution_count": 13,
   "metadata": {},
   "outputs": [
    {
     "data": {
      "text/plain": [
       "{'name': 'Lévy',\n",
       " 'age': 'am I an age?',\n",
       " 'address': {'city': 'Wonderland', 'zip_code': 'ABCDE', 'number': 123}}"
      ]
     },
     "execution_count": 13,
     "metadata": {},
     "output_type": "execute_result"
    }
   ],
   "source": [
    "bad_data"
   ]
  },
  {
   "cell_type": "code",
   "execution_count": 14,
   "metadata": {},
   "outputs": [
    {
     "name": "stdout",
     "output_type": "stream",
     "text": [
      "Something went wrong with the data!\n"
     ]
    }
   ],
   "source": [
    "try:\n",
    "    CatRequest.parse_obj(bad_data)\n",
    "except ValidationError as err:\n",
    "    print(\"Something went wrong with the data!\")"
   ]
  },
  {
   "cell_type": "code",
   "execution_count": 15,
   "metadata": {},
   "outputs": [],
   "source": [
    "unnecessary_data = {\n",
    "    \"name\": \"Lévy\",\n",
    "    \"age\": 3,\n",
    "    \"key\": \"value\",  # unnecessary\n",
    "    \"key2\": \"value2\",  # unnecessary x2\n",
    "    \"address\": {\n",
    "        \"city\": \"Wonderland\",\n",
    "        \"zip_code\": \"ABCDE\",\n",
    "        \"number\": 123\n",
    "    }\n",
    "}"
   ]
  },
  {
   "cell_type": "code",
   "execution_count": 16,
   "metadata": {},
   "outputs": [
    {
     "data": {
      "text/plain": [
       "{'name': 'Lévy',\n",
       " 'age': 3,\n",
       " 'key': 'value',\n",
       " 'key2': 'value2',\n",
       " 'address': {'city': 'Wonderland', 'zip_code': 'ABCDE', 'number': 123}}"
      ]
     },
     "execution_count": 16,
     "metadata": {},
     "output_type": "execute_result"
    }
   ],
   "source": [
    "unnecessary_data"
   ]
  },
  {
   "cell_type": "code",
   "execution_count": 17,
   "metadata": {},
   "outputs": [],
   "source": [
    "\n",
    "data = CatRequest.parse_obj(unnecessary_data)"
   ]
  },
  {
   "cell_type": "code",
   "execution_count": 18,
   "metadata": {},
   "outputs": [
    {
     "data": {
      "text/plain": [
       "CatRequest(name='Lévy', age=3, address=Address(city='Wonderland', zip_code='ABCDE', number=123))"
      ]
     },
     "execution_count": 18,
     "metadata": {},
     "output_type": "execute_result"
    }
   ],
   "source": [
    "data"
   ]
  },
  {
   "cell_type": "code",
   "execution_count": 20,
   "metadata": {},
   "outputs": [],
   "source": [
    "class Address(BaseModel):\n",
    "    \"\"\"\n",
    "    Cat API Address definition\n",
    "    \"\"\"\n",
    "    class Config:\n",
    "        extra = Extra.forbid\n",
    "\n",
    "    # Note how we can even add descriptions to the fields!\n",
    "    city: str = Field(..., description=\"Where the cat lives\")\n",
    "    zip_code: str\n",
    "    number: int\n",
    "\n",
    " \n",
    "class CatRequest(BaseModel):\n",
    "    \"\"\"\n",
    "    Cat API Request definition\n",
    "    \"\"\"\n",
    "    class Config:\n",
    "        extra = Extra.forbid\n",
    "\n",
    "    name: str\n",
    "    age: int\n",
    "    address: Address"
   ]
  },
  {
   "cell_type": "code",
   "execution_count": 21,
   "metadata": {},
   "outputs": [
    {
     "ename": "ValidationError",
     "evalue": "2 validation errors for CatRequest\nkey\n  extra fields not permitted (type=value_error.extra)\nkey2\n  extra fields not permitted (type=value_error.extra)",
     "output_type": "error",
     "traceback": [
      "\u001b[0;31m---------------------------------------------------------------------------\u001b[0m",
      "\u001b[0;31mValidationError\u001b[0m                           Traceback (most recent call last)",
      "Cell \u001b[0;32mIn[21], line 1\u001b[0m\n\u001b[0;32m----> 1\u001b[0m data \u001b[39m=\u001b[39m CatRequest\u001b[39m.\u001b[39;49mparse_obj(unnecessary_data)\n",
      "File \u001b[0;32m~/code/github/mjboothaus/try-pydantic/.venv_try-pydantic/lib/python3.9/site-packages/pydantic/main.py:526\u001b[0m, in \u001b[0;36mpydantic.main.BaseModel.parse_obj\u001b[0;34m()\u001b[0m\n",
      "File \u001b[0;32m~/code/github/mjboothaus/try-pydantic/.venv_try-pydantic/lib/python3.9/site-packages/pydantic/main.py:342\u001b[0m, in \u001b[0;36mpydantic.main.BaseModel.__init__\u001b[0;34m()\u001b[0m\n",
      "\u001b[0;31mValidationError\u001b[0m: 2 validation errors for CatRequest\nkey\n  extra fields not permitted (type=value_error.extra)\nkey2\n  extra fields not permitted (type=value_error.extra)"
     ]
    }
   ],
   "source": [
    "data = CatRequest.parse_obj(unnecessary_data)"
   ]
  },
  {
   "cell_type": "code",
   "execution_count": null,
   "metadata": {},
   "outputs": [],
   "source": []
  }
 ],
 "metadata": {
  "kernelspec": {
   "display_name": ".venv_try-pydantic",
   "language": "python",
   "name": "python3"
  },
  "language_info": {
   "codemirror_mode": {
    "name": "ipython",
    "version": 3
   },
   "file_extension": ".py",
   "mimetype": "text/x-python",
   "name": "python",
   "nbconvert_exporter": "python",
   "pygments_lexer": "ipython3",
   "version": "3.9.12"
  },
  "orig_nbformat": 4,
  "vscode": {
   "interpreter": {
    "hash": "9b9009b12849942072b9a4d95091c31d6a4a05de5872c6dc2f2f4619b0d5f734"
   }
  }
 },
 "nbformat": 4,
 "nbformat_minor": 2
}

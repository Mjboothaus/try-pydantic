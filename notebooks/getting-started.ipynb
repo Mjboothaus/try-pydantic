{
 "cells": [
  {
   "cell_type": "code",
   "execution_count": 1,
   "metadata": {},
   "outputs": [
    {
     "name": "stdout",
     "output_type": "stream",
     "text": [
      "Hello Pydantic\n"
     ]
    }
   ],
   "source": [
    "print(\"Hello Pydantic\")\n"
   ]
  },
  {
   "attachments": {},
   "cell_type": "markdown",
   "metadata": {},
   "source": [
    "[How to Make the Most of Pydantic](https://towardsdatascience.com/how-to-make-the-most-of-pydantic-aa374d5c12d)"
   ]
  },
  {
   "cell_type": "code",
   "execution_count": 2,
   "metadata": {},
   "outputs": [],
   "source": [
    "from pydantic import BaseModel, ValidationError, Extra, Field\n",
    "from functools import singledispatch\n",
    "from typing import Optional\n",
    "from enum import Enum\n",
    "import time\n",
    "from datetime import datetime\n"
   ]
  },
  {
   "cell_type": "code",
   "execution_count": 3,
   "metadata": {},
   "outputs": [],
   "source": [
    "class Address(BaseModel):\n",
    "    \"\"\"\n",
    "    Cat API Address definition\n",
    "    \"\"\"\n",
    "    city: str\n",
    "    zip_code: str\n",
    "    number: int\n",
    "\n",
    "\n",
    "class CatRequest(BaseModel):\n",
    "    \"\"\"\n",
    "    Cat API Request definition\n",
    "    \"\"\"\n",
    "    name: str\n",
    "    age: int\n",
    "    address: Address\n",
    " "
   ]
  },
  {
   "cell_type": "code",
   "execution_count": 4,
   "metadata": {},
   "outputs": [],
   "source": [
    "my_json = {\n",
    "    \"name\": \"Lévy\",\n",
    "    \"age\": 3,\n",
    "    \"address\": {\n",
    "        \"city\": \"Wonderland\",\n",
    "        \"zip_code\": \"ABCDE\",\n",
    "        \"number\": 123\n",
    "    }\n",
    "}\n"
   ]
  },
  {
   "cell_type": "code",
   "execution_count": 5,
   "metadata": {},
   "outputs": [
    {
     "data": {
      "text/plain": [
       "{'name': 'Lévy',\n",
       " 'age': 3,\n",
       " 'address': {'city': 'Wonderland', 'zip_code': 'ABCDE', 'number': 123}}"
      ]
     },
     "execution_count": 5,
     "metadata": {},
     "output_type": "execute_result"
    }
   ],
   "source": [
    "my_json\n"
   ]
  },
  {
   "cell_type": "code",
   "execution_count": 6,
   "metadata": {},
   "outputs": [],
   "source": [
    "data = CatRequest.parse_obj(my_json)\n"
   ]
  },
  {
   "cell_type": "code",
   "execution_count": 7,
   "metadata": {},
   "outputs": [
    {
     "data": {
      "text/plain": [
       "CatRequest(name='Lévy', age=3, address=Address(city='Wonderland', zip_code='ABCDE', number=123))"
      ]
     },
     "execution_count": 7,
     "metadata": {},
     "output_type": "execute_result"
    }
   ],
   "source": [
    "data\n"
   ]
  },
  {
   "cell_type": "code",
   "execution_count": 8,
   "metadata": {},
   "outputs": [
    {
     "data": {
      "text/plain": [
       "'Lévy'"
      ]
     },
     "execution_count": 8,
     "metadata": {},
     "output_type": "execute_result"
    }
   ],
   "source": [
    "data.name  # Lévy\n"
   ]
  },
  {
   "cell_type": "code",
   "execution_count": 9,
   "metadata": {},
   "outputs": [
    {
     "data": {
      "text/plain": [
       "123"
      ]
     },
     "execution_count": 9,
     "metadata": {},
     "output_type": "execute_result"
    }
   ],
   "source": [
    "data.address.number  # 123\n"
   ]
  },
  {
   "cell_type": "code",
   "execution_count": 10,
   "metadata": {},
   "outputs": [],
   "source": [
    "\n",
    "bad_data = {\n",
    "    \"name\": \"Lévy\",\n",
    "    \"age\": \"am I an age?\",  # Note the type change here\n",
    "    \"address\": {\n",
    "        \"city\": \"Wonderland\",\n",
    "        \"zip_code\": \"ABCDE\",\n",
    "        \"number\": 123\n",
    "    }\n",
    "}\n"
   ]
  },
  {
   "cell_type": "code",
   "execution_count": 11,
   "metadata": {},
   "outputs": [
    {
     "data": {
      "text/plain": [
       "{'name': 'Lévy',\n",
       " 'age': 'am I an age?',\n",
       " 'address': {'city': 'Wonderland', 'zip_code': 'ABCDE', 'number': 123}}"
      ]
     },
     "execution_count": 11,
     "metadata": {},
     "output_type": "execute_result"
    }
   ],
   "source": [
    "bad_data\n"
   ]
  },
  {
   "cell_type": "code",
   "execution_count": 12,
   "metadata": {},
   "outputs": [
    {
     "name": "stdout",
     "output_type": "stream",
     "text": [
      "Something went wrong with the data!\n"
     ]
    }
   ],
   "source": [
    "try:\n",
    "    CatRequest.parse_obj(bad_data)\n",
    "except ValidationError as err:\n",
    "    print(\"Something went wrong with the data!\")\n"
   ]
  },
  {
   "cell_type": "code",
   "execution_count": 13,
   "metadata": {},
   "outputs": [],
   "source": [
    "unnecessary_data = {\n",
    "    \"name\": \"Lévy\",\n",
    "    \"age\": 3,\n",
    "    \"key\": \"value\",  # unnecessary\n",
    "    \"key2\": \"value2\",  # unnecessary x2\n",
    "    \"address\": {\n",
    "        \"city\": \"Wonderland\",\n",
    "        \"zip_code\": \"ABCDE\",\n",
    "        \"number\": 123\n",
    "    }\n",
    "}\n"
   ]
  },
  {
   "cell_type": "code",
   "execution_count": 14,
   "metadata": {},
   "outputs": [
    {
     "data": {
      "text/plain": [
       "{'name': 'Lévy',\n",
       " 'age': 3,\n",
       " 'key': 'value',\n",
       " 'key2': 'value2',\n",
       " 'address': {'city': 'Wonderland', 'zip_code': 'ABCDE', 'number': 123}}"
      ]
     },
     "execution_count": 14,
     "metadata": {},
     "output_type": "execute_result"
    }
   ],
   "source": [
    "unnecessary_data\n"
   ]
  },
  {
   "cell_type": "code",
   "execution_count": 15,
   "metadata": {},
   "outputs": [],
   "source": [
    "\n",
    "data = CatRequest.parse_obj(unnecessary_data)\n"
   ]
  },
  {
   "cell_type": "code",
   "execution_count": 16,
   "metadata": {},
   "outputs": [
    {
     "data": {
      "text/plain": [
       "CatRequest(name='Lévy', age=3, address=Address(city='Wonderland', zip_code='ABCDE', number=123))"
      ]
     },
     "execution_count": 16,
     "metadata": {},
     "output_type": "execute_result"
    }
   ],
   "source": [
    "data\n"
   ]
  },
  {
   "cell_type": "code",
   "execution_count": 17,
   "metadata": {},
   "outputs": [],
   "source": [
    "class Address(BaseModel):\n",
    "    \"\"\"\n",
    "    Cat API Address definition\n",
    "    \"\"\"\n",
    "    class Config:\n",
    "        extra = Extra.forbid\n",
    "\n",
    "    # Note how we can even add descriptions to the fields!\n",
    "    city: str = Field(..., description=\"Where the cat lives\")\n",
    "    zip_code: str\n",
    "    number: int\n",
    "\n",
    "\n",
    "class CatRequest(BaseModel):\n",
    "    \"\"\"\n",
    "    Cat API Request definition\n",
    "    \"\"\"\n",
    "    class Config:\n",
    "        extra = Extra.forbid\n",
    "\n",
    "    name: str\n",
    "    age: int\n",
    "    address: Address\n"
   ]
  },
  {
   "cell_type": "code",
   "execution_count": 18,
   "metadata": {},
   "outputs": [
    {
     "name": "stdout",
     "output_type": "stream",
     "text": [
      "2 validation errors for CatRequest\n",
      "key\n",
      "  extra fields not permitted (type=value_error.extra)\n",
      "key2\n",
      "  extra fields not permitted (type=value_error.extra)\n"
     ]
    }
   ],
   "source": [
    "try:\n",
    "    data = CatRequest.parse_obj(unnecessary_data)\n",
    "except Exception as e:\n",
    "    print(e)\n"
   ]
  },
  {
   "cell_type": "code",
   "execution_count": 19,
   "metadata": {},
   "outputs": [],
   "source": [
    "\n",
    "@singledispatch\n",
    "def process(model):\n",
    "    \"\"\"\n",
    "    Default processing definition\n",
    "    \"\"\"\n",
    "    raise NotImplementedError(f\"I don't know how to process {type(model)}\")\n",
    "\n",
    "\n",
    "@process.register\n",
    "def _(model: Address):\n",
    "    \"\"\"\n",
    "    Handle addresses\n",
    "    \"\"\"\n",
    "    print(f\"Just got an address from {model.city}\")\n",
    "\n",
    "\n",
    "@process.register\n",
    "def _(model: CatRequest):\n",
    "    \"\"\"\n",
    "    Handle Cat Requests\n",
    "    \"\"\"\n",
    "    print(f\"Processing {model.name} the cat!\")\n"
   ]
  },
  {
   "cell_type": "code",
   "execution_count": 20,
   "metadata": {},
   "outputs": [],
   "source": [
    "address = Address(\n",
    "    city=\"Wonderland\",\n",
    "    zip_code=\"ABCDE\",\n",
    "    number=123,\n",
    ")"
   ]
  },
  {
   "cell_type": "code",
   "execution_count": 21,
   "metadata": {},
   "outputs": [],
   "source": [
    "cat = CatRequest(\n",
    "    name=\"Lévy\",\n",
    "    age=3,\n",
    "    address=address\n",
    ")"
   ]
  },
  {
   "cell_type": "code",
   "execution_count": 22,
   "metadata": {},
   "outputs": [
    {
     "name": "stdout",
     "output_type": "stream",
     "text": [
      "Just got an address from Wonderland\n"
     ]
    }
   ],
   "source": [
    "\n",
    "process(address)  # Just got an address from Wonderland\n"
   ]
  },
  {
   "cell_type": "code",
   "execution_count": 23,
   "metadata": {},
   "outputs": [
    {
     "name": "stdout",
     "output_type": "stream",
     "text": [
      "Processing Lévy the cat!\n"
     ]
    }
   ],
   "source": [
    "process(cat)  # Processing Lévy the cat!"
   ]
  },
  {
   "cell_type": "code",
   "execution_count": 24,
   "metadata": {},
   "outputs": [
    {
     "name": "stdout",
     "output_type": "stream",
     "text": [
      "I don't know how to process <class 'str'>\n"
     ]
    }
   ],
   "source": [
    "# NotImplementedError: I don't know how to process <class 'str'>\n",
    "\n",
    "try:\n",
    "    process(\"something else\")\n",
    "except Exception as e:\n",
    "    print(e)"
   ]
  },
  {
   "attachments": {},
   "cell_type": "markdown",
   "metadata": {},
   "source": [
    "[Introduction to Pydantic for FastAPI](https://www.fastapitutorial.com/blog/introduction-pydantic-for-fastapi/)"
   ]
  },
  {
   "cell_type": "code",
   "execution_count": 25,
   "metadata": {},
   "outputs": [],
   "source": [
    "class Blog(BaseModel):\n",
    "    title: str \n",
    "    description: Optional[str]=None\n",
    "    is_active: bool"
   ]
  },
  {
   "cell_type": "code",
   "execution_count": 26,
   "metadata": {},
   "outputs": [
    {
     "data": {
      "text/plain": [
       "Blog(title='My First Blog', description=None, is_active=True)"
      ]
     },
     "execution_count": 26,
     "metadata": {},
     "output_type": "execute_result"
    }
   ],
   "source": [
    "Blog(title=\"My First Blog\", is_active=True)\n",
    "# Output : Blog(title='My First Blog', description=None, is_active=True)\n"
   ]
  },
  {
   "cell_type": "code",
   "execution_count": 27,
   "metadata": {},
   "outputs": [],
   "source": [
    "class Languages(str, Enum):\n",
    "    PY = \"Python\"\n",
    "    JAVA = \"Java\"\n",
    "    GO = \"Go\"\n",
    "\n",
    "\n",
    "class Blog(BaseModel):\n",
    "    title: str \n",
    "    language : Languages = Languages.PY\n",
    "    is_active: bool"
   ]
  },
  {
   "cell_type": "code",
   "execution_count": 28,
   "metadata": {},
   "outputs": [
    {
     "data": {
      "text/plain": [
       "Blog(title='My First Blog', language=<Languages.JAVA: 'Java'>, is_active=True)"
      ]
     },
     "execution_count": 28,
     "metadata": {},
     "output_type": "execute_result"
    }
   ],
   "source": [
    "\n",
    "Blog(title=\"My First Blog\", language=\"Java\", is_active=True)\n",
    "# Output: Blog(title='My First Blog', language=<Languages.JAVA: 'Java'>, is_active=True)"
   ]
  },
  {
   "cell_type": "code",
   "execution_count": 29,
   "metadata": {},
   "outputs": [
    {
     "name": "stdout",
     "output_type": "stream",
     "text": [
      "1 validation error for Blog\n",
      "language\n",
      "  value is not a valid enumeration member; permitted: 'Python', 'Java', 'Go' (type=type_error.enum; enum_values=[<Languages.PY: 'Python'>, <Languages.JAVA: 'Java'>, <Languages.GO: 'Go'>])\n"
     ]
    }
   ],
   "source": [
    "\n",
    "try:\n",
    "    Blog(title=\"My First Blog\", language=\"C++\", is_active=True)\n",
    "except Exception as e:\n",
    "    print(e)\n",
    "# Output: ValidationError: 1 validation error for Blog language value is not a valid enumeration member; permitted: 'Python', 'Java', 'Go' "
   ]
  },
  {
   "cell_type": "code",
   "execution_count": 30,
   "metadata": {},
   "outputs": [],
   "source": [
    "class Blog(BaseModel):\n",
    "    title: str \n",
    "    created_at: datetime = Field(default_factory=datetime.now)\n",
    "    is_active: bool"
   ]
  },
  {
   "cell_type": "code",
   "execution_count": 31,
   "metadata": {},
   "outputs": [
    {
     "name": "stdout",
     "output_type": "stream",
     "text": [
      "title='Our First Blog' created_at=datetime.datetime(2022, 12, 28, 20, 35, 35, 830937) is_active=True\n"
     ]
    }
   ],
   "source": [
    "print(Blog(title=\"Our First Blog\", is_active=True))"
   ]
  },
  {
   "cell_type": "code",
   "execution_count": 32,
   "metadata": {},
   "outputs": [
    {
     "name": "stdout",
     "output_type": "stream",
     "text": [
      "title='Our Second Blog' created_at=datetime.datetime(2022, 12, 28, 20, 35, 39, 854226) is_active=True\n"
     ]
    }
   ],
   "source": [
    "time.sleep(4)\n",
    "print(Blog(title=\"Our Second Blog\", is_active=True))"
   ]
  }
 ],
 "metadata": {
  "kernelspec": {
   "display_name": ".venv_try-pydantic",
   "language": "python",
   "name": "python3"
  },
  "language_info": {
   "codemirror_mode": {
    "name": "ipython",
    "version": 3
   },
   "file_extension": ".py",
   "mimetype": "text/x-python",
   "name": "python",
   "nbconvert_exporter": "python",
   "pygments_lexer": "ipython3",
   "version": "3.9.12"
  },
  "orig_nbformat": 4,
  "vscode": {
   "interpreter": {
    "hash": "9b9009b12849942072b9a4d95091c31d6a4a05de5872c6dc2f2f4619b0d5f734"
   }
  }
 },
 "nbformat": 4,
 "nbformat_minor": 2
}

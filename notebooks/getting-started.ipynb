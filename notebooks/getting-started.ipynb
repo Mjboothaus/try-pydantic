{
 "cells": [
  {
   "cell_type": "code",
   "execution_count": 1,
   "metadata": {},
   "outputs": [
    {
     "name": "stdout",
     "output_type": "stream",
     "text": [
      "Hello Pydantic\n"
     ]
    }
   ],
   "source": [
    "print(\"Hello Pydantic\")\n"
   ]
  },
  {
   "attachments": {},
   "cell_type": "markdown",
   "metadata": {},
   "source": [
    "[How to Make the Most of Pydantic](https://towardsdatascience.com/how-to-make-the-most-of-pydantic-aa374d5c12d)"
   ]
  },
  {
   "cell_type": "code",
   "execution_count": 32,
   "metadata": {},
   "outputs": [],
   "source": [
    "from pydantic import BaseModel, ValidationError, Extra, Field\n",
    "from functools import singledispatch\n",
    "from typing import Optional\n"
   ]
  },
  {
   "cell_type": "code",
   "execution_count": 3,
   "metadata": {},
   "outputs": [],
   "source": [
    "class Address(BaseModel):\n",
    "    \"\"\"\n",
    "    Cat API Address definition\n",
    "    \"\"\"\n",
    "    city: str\n",
    "    zip_code: str\n",
    "    number: int\n",
    "\n",
    "\n",
    "class CatRequest(BaseModel):\n",
    "    \"\"\"\n",
    "    Cat API Request definition\n",
    "    \"\"\"\n",
    "    name: str\n",
    "    age: int\n",
    "    address: Address\n",
    " "
   ]
  },
  {
   "cell_type": "code",
   "execution_count": 4,
   "metadata": {},
   "outputs": [],
   "source": [
    "my_json = {\n",
    "    \"name\": \"Lévy\",\n",
    "    \"age\": 3,\n",
    "    \"address\": {\n",
    "        \"city\": \"Wonderland\",\n",
    "        \"zip_code\": \"ABCDE\",\n",
    "        \"number\": 123\n",
    "    }\n",
    "}\n"
   ]
  },
  {
   "cell_type": "code",
   "execution_count": 5,
   "metadata": {},
   "outputs": [
    {
     "data": {
      "text/plain": [
       "{'name': 'Lévy',\n",
       " 'age': 3,\n",
       " 'address': {'city': 'Wonderland', 'zip_code': 'ABCDE', 'number': 123}}"
      ]
     },
     "execution_count": 5,
     "metadata": {},
     "output_type": "execute_result"
    }
   ],
   "source": [
    "my_json\n"
   ]
  },
  {
   "cell_type": "code",
   "execution_count": 6,
   "metadata": {},
   "outputs": [],
   "source": [
    "data = CatRequest.parse_obj(my_json)\n"
   ]
  },
  {
   "cell_type": "code",
   "execution_count": 7,
   "metadata": {},
   "outputs": [
    {
     "data": {
      "text/plain": [
       "CatRequest(name='Lévy', age=3, address=Address(city='Wonderland', zip_code='ABCDE', number=123))"
      ]
     },
     "execution_count": 7,
     "metadata": {},
     "output_type": "execute_result"
    }
   ],
   "source": [
    "data\n"
   ]
  },
  {
   "cell_type": "code",
   "execution_count": 10,
   "metadata": {},
   "outputs": [
    {
     "data": {
      "text/plain": [
       "'Lévy'"
      ]
     },
     "execution_count": 10,
     "metadata": {},
     "output_type": "execute_result"
    }
   ],
   "source": [
    "data.name  # Lévy\n"
   ]
  },
  {
   "cell_type": "code",
   "execution_count": 9,
   "metadata": {},
   "outputs": [
    {
     "data": {
      "text/plain": [
       "123"
      ]
     },
     "execution_count": 9,
     "metadata": {},
     "output_type": "execute_result"
    }
   ],
   "source": [
    "data.address.number  # 123\n"
   ]
  },
  {
   "cell_type": "code",
   "execution_count": 12,
   "metadata": {},
   "outputs": [],
   "source": [
    "\n",
    "bad_data = {\n",
    "    \"name\": \"Lévy\",\n",
    "    \"age\": \"am I an age?\",  # Note the type change here\n",
    "    \"address\": {\n",
    "        \"city\": \"Wonderland\",\n",
    "        \"zip_code\": \"ABCDE\",\n",
    "        \"number\": 123\n",
    "    }\n",
    "}\n"
   ]
  },
  {
   "cell_type": "code",
   "execution_count": 13,
   "metadata": {},
   "outputs": [
    {
     "data": {
      "text/plain": [
       "{'name': 'Lévy',\n",
       " 'age': 'am I an age?',\n",
       " 'address': {'city': 'Wonderland', 'zip_code': 'ABCDE', 'number': 123}}"
      ]
     },
     "execution_count": 13,
     "metadata": {},
     "output_type": "execute_result"
    }
   ],
   "source": [
    "bad_data\n"
   ]
  },
  {
   "cell_type": "code",
   "execution_count": 14,
   "metadata": {},
   "outputs": [
    {
     "name": "stdout",
     "output_type": "stream",
     "text": [
      "Something went wrong with the data!\n"
     ]
    }
   ],
   "source": [
    "try:\n",
    "    CatRequest.parse_obj(bad_data)\n",
    "except ValidationError as err:\n",
    "    print(\"Something went wrong with the data!\")\n"
   ]
  },
  {
   "cell_type": "code",
   "execution_count": 15,
   "metadata": {},
   "outputs": [],
   "source": [
    "unnecessary_data = {\n",
    "    \"name\": \"Lévy\",\n",
    "    \"age\": 3,\n",
    "    \"key\": \"value\",  # unnecessary\n",
    "    \"key2\": \"value2\",  # unnecessary x2\n",
    "    \"address\": {\n",
    "        \"city\": \"Wonderland\",\n",
    "        \"zip_code\": \"ABCDE\",\n",
    "        \"number\": 123\n",
    "    }\n",
    "}\n"
   ]
  },
  {
   "cell_type": "code",
   "execution_count": 16,
   "metadata": {},
   "outputs": [
    {
     "data": {
      "text/plain": [
       "{'name': 'Lévy',\n",
       " 'age': 3,\n",
       " 'key': 'value',\n",
       " 'key2': 'value2',\n",
       " 'address': {'city': 'Wonderland', 'zip_code': 'ABCDE', 'number': 123}}"
      ]
     },
     "execution_count": 16,
     "metadata": {},
     "output_type": "execute_result"
    }
   ],
   "source": [
    "unnecessary_data\n"
   ]
  },
  {
   "cell_type": "code",
   "execution_count": 17,
   "metadata": {},
   "outputs": [],
   "source": [
    "\n",
    "data = CatRequest.parse_obj(unnecessary_data)\n"
   ]
  },
  {
   "cell_type": "code",
   "execution_count": 18,
   "metadata": {},
   "outputs": [
    {
     "data": {
      "text/plain": [
       "CatRequest(name='Lévy', age=3, address=Address(city='Wonderland', zip_code='ABCDE', number=123))"
      ]
     },
     "execution_count": 18,
     "metadata": {},
     "output_type": "execute_result"
    }
   ],
   "source": [
    "data\n"
   ]
  },
  {
   "cell_type": "code",
   "execution_count": 20,
   "metadata": {},
   "outputs": [],
   "source": [
    "class Address(BaseModel):\n",
    "    \"\"\"\n",
    "    Cat API Address definition\n",
    "    \"\"\"\n",
    "    class Config:\n",
    "        extra = Extra.forbid\n",
    "\n",
    "    # Note how we can even add descriptions to the fields!\n",
    "    city: str = Field(..., description=\"Where the cat lives\")\n",
    "    zip_code: str\n",
    "    number: int\n",
    "\n",
    "\n",
    "class CatRequest(BaseModel):\n",
    "    \"\"\"\n",
    "    Cat API Request definition\n",
    "    \"\"\"\n",
    "    class Config:\n",
    "        extra = Extra.forbid\n",
    "\n",
    "    name: str\n",
    "    age: int\n",
    "    address: Address\n"
   ]
  },
  {
   "cell_type": "code",
   "execution_count": 21,
   "metadata": {},
   "outputs": [
    {
     "ename": "ValidationError",
     "evalue": "2 validation errors for CatRequest\nkey\n  extra fields not permitted (type=value_error.extra)\nkey2\n  extra fields not permitted (type=value_error.extra)",
     "output_type": "error",
     "traceback": [
      "\u001b[0;31m---------------------------------------------------------------------------\u001b[0m",
      "\u001b[0;31mValidationError\u001b[0m                           Traceback (most recent call last)",
      "Cell \u001b[0;32mIn[21], line 1\u001b[0m\n\u001b[0;32m----> 1\u001b[0m data \u001b[39m=\u001b[39m CatRequest\u001b[39m.\u001b[39;49mparse_obj(unnecessary_data)\n",
      "File \u001b[0;32m~/code/github/mjboothaus/try-pydantic/.venv_try-pydantic/lib/python3.9/site-packages/pydantic/main.py:526\u001b[0m, in \u001b[0;36mpydantic.main.BaseModel.parse_obj\u001b[0;34m()\u001b[0m\n",
      "File \u001b[0;32m~/code/github/mjboothaus/try-pydantic/.venv_try-pydantic/lib/python3.9/site-packages/pydantic/main.py:342\u001b[0m, in \u001b[0;36mpydantic.main.BaseModel.__init__\u001b[0;34m()\u001b[0m\n",
      "\u001b[0;31mValidationError\u001b[0m: 2 validation errors for CatRequest\nkey\n  extra fields not permitted (type=value_error.extra)\nkey2\n  extra fields not permitted (type=value_error.extra)"
     ]
    }
   ],
   "source": [
    "data = CatRequest.parse_obj(unnecessary_data)\n"
   ]
  },
  {
   "cell_type": "code",
   "execution_count": 23,
   "metadata": {},
   "outputs": [],
   "source": [
    "\n",
    "@singledispatch\n",
    "def process(model):\n",
    "    \"\"\"\n",
    "    Default processing definition\n",
    "    \"\"\"\n",
    "    raise NotImplementedError(f\"I don't know how to process {type(model)}\")\n",
    "\n",
    "\n",
    "@process.register\n",
    "def _(model: Address):\n",
    "    \"\"\"\n",
    "    Handle addresses\n",
    "    \"\"\"\n",
    "    print(f\"Just got an address from {model.city}\")\n",
    "\n",
    "\n",
    "@process.register\n",
    "def _(model: CatRequest):\n",
    "    \"\"\"\n",
    "    Handle Cat Requests\n",
    "    \"\"\"\n",
    "    print(f\"Processing {model.name} the cat!\")\n"
   ]
  },
  {
   "cell_type": "code",
   "execution_count": 26,
   "metadata": {},
   "outputs": [],
   "source": [
    "address = Address(\n",
    "    city=\"Wonderland\",\n",
    "    zip_code=\"ABCDE\",\n",
    "    number=123,\n",
    ")"
   ]
  },
  {
   "cell_type": "code",
   "execution_count": 27,
   "metadata": {},
   "outputs": [],
   "source": [
    "cat = CatRequest(\n",
    "    name=\"Lévy\",\n",
    "    age=3,\n",
    "    address=address\n",
    ")"
   ]
  },
  {
   "cell_type": "code",
   "execution_count": 28,
   "metadata": {},
   "outputs": [
    {
     "name": "stdout",
     "output_type": "stream",
     "text": [
      "Just got an address from Wonderland\n"
     ]
    }
   ],
   "source": [
    "\n",
    "process(address)  # Just got an address from Wonderland\n"
   ]
  },
  {
   "cell_type": "code",
   "execution_count": 29,
   "metadata": {},
   "outputs": [
    {
     "name": "stdout",
     "output_type": "stream",
     "text": [
      "Processing Lévy the cat!\n"
     ]
    }
   ],
   "source": [
    "process(cat)  # Processing Lévy the cat!"
   ]
  },
  {
   "cell_type": "code",
   "execution_count": 30,
   "metadata": {},
   "outputs": [
    {
     "ename": "NotImplementedError",
     "evalue": "I don't know how to process <class 'str'>",
     "output_type": "error",
     "traceback": [
      "\u001b[0;31m---------------------------------------------------------------------------\u001b[0m",
      "\u001b[0;31mNotImplementedError\u001b[0m                       Traceback (most recent call last)",
      "Cell \u001b[0;32mIn[30], line 2\u001b[0m\n\u001b[1;32m      1\u001b[0m \u001b[39m# NotImplementedError: I don't know how to process <class 'str'>\u001b[39;00m\n\u001b[0;32m----> 2\u001b[0m process(\u001b[39m\"\u001b[39;49m\u001b[39msomething else\u001b[39;49m\u001b[39m\"\u001b[39;49m)\n",
      "File \u001b[0;32m~/.pyenv/versions/3.9.12/lib/python3.9/functools.py:888\u001b[0m, in \u001b[0;36msingledispatch.<locals>.wrapper\u001b[0;34m(*args, **kw)\u001b[0m\n\u001b[1;32m    884\u001b[0m \u001b[39mif\u001b[39;00m \u001b[39mnot\u001b[39;00m args:\n\u001b[1;32m    885\u001b[0m     \u001b[39mraise\u001b[39;00m \u001b[39mTypeError\u001b[39;00m(\u001b[39mf\u001b[39m\u001b[39m'\u001b[39m\u001b[39m{\u001b[39;00mfuncname\u001b[39m}\u001b[39;00m\u001b[39m requires at least \u001b[39m\u001b[39m'\u001b[39m\n\u001b[1;32m    886\u001b[0m                     \u001b[39m'\u001b[39m\u001b[39m1 positional argument\u001b[39m\u001b[39m'\u001b[39m)\n\u001b[0;32m--> 888\u001b[0m \u001b[39mreturn\u001b[39;00m dispatch(args[\u001b[39m0\u001b[39;49m]\u001b[39m.\u001b[39;49m\u001b[39m__class__\u001b[39;49m)(\u001b[39m*\u001b[39;49margs, \u001b[39m*\u001b[39;49m\u001b[39m*\u001b[39;49mkw)\n",
      "Cell \u001b[0;32mIn[23], line 6\u001b[0m, in \u001b[0;36mprocess\u001b[0;34m(model)\u001b[0m\n\u001b[1;32m      1\u001b[0m \u001b[39m@singledispatch\u001b[39m\n\u001b[1;32m      2\u001b[0m \u001b[39mdef\u001b[39;00m \u001b[39mprocess\u001b[39m(model):\n\u001b[1;32m      3\u001b[0m     \u001b[39m\"\"\"\u001b[39;00m\n\u001b[1;32m      4\u001b[0m \u001b[39m    Default processing definition\u001b[39;00m\n\u001b[1;32m      5\u001b[0m \u001b[39m    \"\"\"\u001b[39;00m\n\u001b[0;32m----> 6\u001b[0m     \u001b[39mraise\u001b[39;00m \u001b[39mNotImplementedError\u001b[39;00m(\u001b[39mf\u001b[39m\u001b[39m\"\u001b[39m\u001b[39mI don\u001b[39m\u001b[39m'\u001b[39m\u001b[39mt know how to process \u001b[39m\u001b[39m{\u001b[39;00m\u001b[39mtype\u001b[39m(model)\u001b[39m}\u001b[39;00m\u001b[39m\"\u001b[39m)\n",
      "\u001b[0;31mNotImplementedError\u001b[0m: I don't know how to process <class 'str'>"
     ]
    }
   ],
   "source": [
    "# NotImplementedError: I don't know how to process <class 'str'>\n",
    "process(\"something else\")"
   ]
  },
  {
   "cell_type": "code",
   "execution_count": 33,
   "metadata": {},
   "outputs": [],
   "source": [
    "class Blog(BaseModel):\n",
    "    title: str \n",
    "    description: Optional[str]=None\n",
    "    is_active: bool"
   ]
  },
  {
   "cell_type": "code",
   "execution_count": 37,
   "metadata": {},
   "outputs": [
    {
     "data": {
      "text/plain": [
       "Blog(title='My First Blog', description=None, is_active=True)"
      ]
     },
     "execution_count": 37,
     "metadata": {},
     "output_type": "execute_result"
    }
   ],
   "source": [
    "Blog(title=\"My First Blog\", is_active=True)\n",
    "# Output : Blog(title='My First Blog', description=None, is_active=True)\n"
   ]
  },
  {
   "cell_type": "code",
   "execution_count": null,
   "metadata": {},
   "outputs": [],
   "source": []
  }
 ],
 "metadata": {
  "kernelspec": {
   "display_name": ".venv_try-pydantic",
   "language": "python",
   "name": "python3"
  },
  "language_info": {
   "codemirror_mode": {
    "name": "ipython",
    "version": 3
   },
   "file_extension": ".py",
   "mimetype": "text/x-python",
   "name": "python",
   "nbconvert_exporter": "python",
   "pygments_lexer": "ipython3",
   "version": "3.9.12"
  },
  "orig_nbformat": 4,
  "vscode": {
   "interpreter": {
    "hash": "9b9009b12849942072b9a4d95091c31d6a4a05de5872c6dc2f2f4619b0d5f734"
   }
  }
 },
 "nbformat": 4,
 "nbformat_minor": 2
}
